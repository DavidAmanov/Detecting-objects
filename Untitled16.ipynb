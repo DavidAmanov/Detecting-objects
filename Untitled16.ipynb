{
  "cells": [
    {
      "cell_type": "markdown",
      "metadata": {
        "id": "view-in-github",
        "colab_type": "text"
      },
      "source": [
        "<a href=\"https://colab.research.google.com/github/DavidLadaev/Detecting-objects/blob/main/Untitled16.ipynb\" target=\"_parent\"><img src=\"https://colab.research.google.com/assets/colab-badge.svg\" alt=\"Open In Colab\"/></a>"
      ]
    },
    {
      "cell_type": "code",
      "execution_count": null,
      "metadata": {
        "colab": {
          "base_uri": "https://localhost:8080/"
        },
        "id": "7SVlubYjVL-W",
        "outputId": "e4788178-78ad-4cde-939a-a693892f204b"
      },
      "outputs": [
        {
          "name": "stdout",
          "output_type": "stream",
          "text": [
            "Looking in indexes: https://pypi.org/simple, https://us-python.pkg.dev/colab-wheels/public/simple/\n",
            "Collecting pyTelegramBotAPI\n",
            "  Downloading pyTelegramBotAPI-4.10.0.tar.gz (222 kB)\n",
            "\u001b[2K     \u001b[90m━━━━━━━━━━━━━━━━━━━━━━━━━━━━━━━━━━━━━━━\u001b[0m \u001b[32m222.9/222.9 kB\u001b[0m \u001b[31m4.5 MB/s\u001b[0m eta \u001b[36m0:00:00\u001b[0m\n",
            "\u001b[?25h  Preparing metadata (setup.py) ... \u001b[?25l\u001b[?25hdone\n",
            "Requirement already satisfied: requests in /usr/local/lib/python3.9/dist-packages (from pyTelegramBotAPI) (2.27.1)\n",
            "Requirement already satisfied: certifi>=2017.4.17 in /usr/local/lib/python3.9/dist-packages (from requests->pyTelegramBotAPI) (2022.12.7)\n",
            "Requirement already satisfied: idna<4,>=2.5 in /usr/local/lib/python3.9/dist-packages (from requests->pyTelegramBotAPI) (3.4)\n",
            "Requirement already satisfied: charset-normalizer~=2.0.0 in /usr/local/lib/python3.9/dist-packages (from requests->pyTelegramBotAPI) (2.0.12)\n",
            "Requirement already satisfied: urllib3<1.27,>=1.21.1 in /usr/local/lib/python3.9/dist-packages (from requests->pyTelegramBotAPI) (1.26.15)\n",
            "Building wheels for collected packages: pyTelegramBotAPI\n",
            "  Building wheel for pyTelegramBotAPI (setup.py) ... \u001b[?25l\u001b[?25hdone\n",
            "  Created wheel for pyTelegramBotAPI: filename=pyTelegramBotAPI-4.10.0-py3-none-any.whl size=205421 sha256=3d90caaad9c7dbec20a88ff680b050953e2b81e73f3b93d24dca21782e8b844a\n",
            "  Stored in directory: /root/.cache/pip/wheels/ef/ba/4b/187be68f61aa7818b28d8b21200d130fd35ba36f002efcc262\n",
            "Successfully built pyTelegramBotAPI\n",
            "Installing collected packages: pyTelegramBotAPI\n",
            "Successfully installed pyTelegramBotAPI-4.10.0\n"
          ]
        }
      ],
      "source": [
        "!pip install pyTelegramBotAPI"
      ]
    },
    {
      "cell_type": "code",
      "execution_count": null,
      "metadata": {
        "colab": {
          "base_uri": "https://localhost:8080/"
        },
        "id": "y9pAriSAc-ts",
        "outputId": "9f69479e-6183-46e0-9ae3-5b34e911062a"
      },
      "outputs": [
        {
          "name": "stdout",
          "output_type": "stream",
          "text": [
            "Looking in indexes: https://pypi.org/simple, https://us-python.pkg.dev/colab-wheels/public/simple/\n",
            "Collecting imageai\n",
            "  Downloading imageai-3.0.3-py3-none-any.whl (69 kB)\n",
            "\u001b[2K     \u001b[90m━━━━━━━━━━━━━━━━━━━━━━━━━━━━━━━━━━━━━━━━\u001b[0m \u001b[32m69.8/69.8 kB\u001b[0m \u001b[31m3.6 MB/s\u001b[0m eta \u001b[36m0:00:00\u001b[0m\n",
            "\u001b[?25hInstalling collected packages: imageai\n",
            "Successfully installed imageai-3.0.3\n"
          ]
        }
      ],
      "source": [
        "!pip install imageai"
      ]
    },
    {
      "cell_type": "code",
      "execution_count": null,
      "metadata": {
        "colab": {
          "background_save": true,
          "base_uri": "https://localhost:8080/"
        },
        "id": "IbMY6gFDVjTh",
        "outputId": "e5a73149-c5a2-463e-c08c-d1a1773c111a"
      },
      "outputs": [
        {
          "name": "stdout",
          "output_type": "stream",
          "text": [
            "[<telebot.types.PhotoSize object at 0x7f8e0804a370>, <telebot.types.PhotoSize object at 0x7f8e0804af70>]\n",
            "img:  {'288103794': ['/content/photos/file_8.jpg']}\n",
            "{'288103794': ['/content/photos/file_8.jpg']}\n"
          ]
        },
        {
          "name": "stderr",
          "output_type": "stream",
          "text": [
            "<ipython-input-13-002f6d96f344>:61: ResourceWarning: unclosed file <_io.BufferedReader name='/content/photos/imagenew.jpg'>\n",
            "  bot.send_photo(message.chat.id, open(reply_img, 'rb'))\n",
            "ResourceWarning: Enable tracemalloc to get the object allocation traceback\n"
          ]
        },
        {
          "name": "stdout",
          "output_type": "stream",
          "text": [
            "{'288103794': []}\n"
          ]
        },
        {
          "name": "stderr",
          "output_type": "stream",
          "text": [
            "/usr/local/lib/python3.9/dist-packages/telebot/util.py:491: ResourceWarning: unclosed <ssl.SSLSocket fd=71, family=AddressFamily.AF_INET, type=SocketKind.SOCK_STREAM, proto=6, laddr=('172.28.0.12', 51784), raddr=('149.154.167.220', 443)>\n",
            "  setattr(thread_local, key, value)\n",
            "ResourceWarning: Enable tracemalloc to get the object allocation traceback\n",
            "/usr/local/lib/python3.9/dist-packages/telebot/util.py:491: ResourceWarning: unclosed <ssl.SSLSocket fd=71, family=AddressFamily.AF_INET, type=SocketKind.SOCK_STREAM, proto=6, laddr=('172.28.0.12', 37942), raddr=('149.154.167.220', 443)>\n",
            "  setattr(thread_local, key, value)\n",
            "ResourceWarning: Enable tracemalloc to get the object allocation traceback\n",
            "/usr/local/lib/python3.9/dist-packages/telebot/util.py:491: ResourceWarning: unclosed <ssl.SSLSocket fd=71, family=AddressFamily.AF_INET, type=SocketKind.SOCK_STREAM, proto=6, laddr=('172.28.0.12', 52266), raddr=('149.154.167.220', 443)>\n",
            "  setattr(thread_local, key, value)\n",
            "ResourceWarning: Enable tracemalloc to get the object allocation traceback\n",
            "/usr/local/lib/python3.9/dist-packages/telebot/util.py:491: ResourceWarning: unclosed <ssl.SSLSocket fd=71, family=AddressFamily.AF_INET, type=SocketKind.SOCK_STREAM, proto=6, laddr=('172.28.0.12', 38110), raddr=('149.154.167.220', 443)>\n",
            "  setattr(thread_local, key, value)\n",
            "ResourceWarning: Enable tracemalloc to get the object allocation traceback\n",
            "/usr/local/lib/python3.9/dist-packages/telebot/util.py:491: ResourceWarning: unclosed <ssl.SSLSocket fd=71, family=AddressFamily.AF_INET, type=SocketKind.SOCK_STREAM, proto=6, laddr=('172.28.0.12', 50996), raddr=('149.154.167.220', 443)>\n",
            "  setattr(thread_local, key, value)\n",
            "ResourceWarning: Enable tracemalloc to get the object allocation traceback\n"
          ]
        }
      ],
      "source": [
        "import telebot\n",
        "import os\n",
        "\n",
        "def clear_content(chat_id):\n",
        "    try:\n",
        "        for img in images[chat_id]:\n",
        "            os.remove(img)\n",
        "    except Exception as e:\n",
        "        clear_content(chat_id)\n",
        "    images[chat_id] = []\n",
        "\n",
        "\n",
        "def detected(image_path):\n",
        "    from imageai.Detection import ObjectDetection\n",
        "    detector = ObjectDetection()\n",
        "    detector.setModelTypeAsYOLOv3()\n",
        "    detector.setModelPath(\"/content/yolov3.pt\")\n",
        "    detector.loadModel()\n",
        "    detections = detector.detectObjectsFromImage(input_image=image_path, output_image_path=\"/content/photos/imagenew.jpg\", minimum_percentage_probability=30)\n",
        "    import cv2\n",
        "    from matplotlib import pyplot as plt\n",
        "    img = cv2.imread(\"/content/photos/imagenew.jpg\", cv2.IMREAD_COLOR)\n",
        "    output_path = \"/content/photos/imagenew.jpg\"\n",
        "    return output_path\n",
        "\n",
        "    rgb_image = cv2.cvtColor(img, cv2.COLOR_BGR2RGB)\n",
        "    plt.imshow(rgb_image)\n",
        "\n",
        "images = dict()\n",
        "\n",
        "bot = telebot.TeleBot('YOUR TG TOKEN') #Сюда нужно вбить свой телеграм токен, который вам выдаст BotFather\n",
        "\n",
        "@bot.message_handler(commands=['start'])\n",
        "def main(message):\n",
        "    bot.send_message(message.chat.id, \"Hello, send me photo\")\n",
        "\n",
        "\n",
        "@bot.message_handler(content_types=['photo'])\n",
        "def photo(message):\n",
        "    print(message.photo[:-2])\n",
        "    images[str(message.chat.id)] = []\n",
        "    try:\n",
        "        file_info = bot.get_file(message.photo[len(message.photo) - 1].file_id)\n",
        "\n",
        "        downloaded_file = bot.download_file(file_info.file_path)\n",
        "\n",
        "        src = \"/content/\" + file_info.file_path\n",
        "\n",
        "        with open(src, 'wb') as new_file:\n",
        "            new_file.write(downloaded_file)\n",
        "        images[str(message.chat.id)].append(src)\n",
        "    except Exception as e:\n",
        "        bot.reply_to(message, e)\n",
        "\n",
        "    print('img: ', images)\n",
        "    print(images)\n",
        "    reply_img = ''\n",
        "    if (len(images[str(message.chat.id)])==1):\n",
        "        reply_img = detected(images[str(message.chat.id)][0])\n",
        "        images[str(message.chat.id)].append(reply_img)\n",
        "        bot.send_photo(message.chat.id, open(reply_img, 'rb'))\n",
        "        clear_content(str(message.chat.id))\n",
        "    print(images)\n",
        "\n",
        "\n",
        "\n",
        "@bot.message_handler(content_types=['text'])\n",
        "def text(message):\n",
        "    bot.send_message(message.chat.id, \"Hello, send me photo\")\n",
        "\n",
        "bot.polling(none_stop=True)"
      ]
    }
  ],
  "metadata": {
    "colab": {
      "provenance": [],
      "authorship_tag": "ABX9TyPvfbXoBwlgmki2THgk4G/a",
      "include_colab_link": true
    },
    "kernelspec": {
      "display_name": "Python 3",
      "name": "python3"
    },
    "language_info": {
      "name": "python"
    }
  },
  "nbformat": 4,
  "nbformat_minor": 0
}